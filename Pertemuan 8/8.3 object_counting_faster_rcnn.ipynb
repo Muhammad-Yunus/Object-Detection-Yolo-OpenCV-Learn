{
 "cells": [
  {
   "cell_type": "markdown",
   "metadata": {},
   "source": [
    "## 8.3 Object Counting Faster R-CNN"
   ]
  },
  {
   "cell_type": "markdown",
   "metadata": {},
   "source": [
    "### 8.3.1 Install Supervision\n",
    "<img src=\"resource/rf-supervision-banner.png\" width=\"700px\"><br><br>\n",
    ">.\n",
    ">\n",
    "> ⚠️ <font color=\"orange\">If you already create conda environment 'BelajarSuperVision', you can skip the following step then jump to part #8.3.2, </font><br>\n",
    ">\n",
    ">.\n",
    "- Since Supervision working in `python3.8`, we need to create new conda environment with name `BelajarSuperVision` using that python version\n",
    "- Open `Anaconda prompt`\n",
    "- create new environment `BelajarSuperVision`\n",
    "    ```\n",
    "    conda create --name BelajarSuperVision python=3.8\n",
    "    ```\n",
    "- activate environment\n",
    "    ```\n",
    "    conda activate BelajarSuperVision\n",
    "    ```\n",
    "- run to install supervision & ultralytics\n",
    "    ```\n",
    "    pip install ipykernel\n",
    "    pip install supervision\n",
    "    pip install ultralytics\n",
    "    pip install onnx --user\n",
    "    pip install onnxruntime\n",
    "    ```\n",
    "- Close VS Code, then reopen it\n",
    "- Open `6.2 supervision-object-counting.ipynb`\n",
    "- Choose `BelajarSuperVision` as python environment<br>\n",
    "<img src=\"resource/sv-image.png\" width=\"300px\">"
   ]
  },
  {
   "cell_type": "markdown",
   "metadata": {},
   "source": [
    "<br><br><br><br>\n",
    "### 8.3.2 Object Counting Faster R-CNN using ONNX Runtiome + SuperVision\n",
    "- import library"
   ]
  },
  {
   "cell_type": "code",
   "execution_count": null,
   "metadata": {},
   "outputs": [],
   "source": [
    "import cv2\n",
    "import numpy as np\n",
    "import torch\n",
    "import onnx\n",
    "import onnxruntime as ort\n",
    "import supervision as sv\n",
    "import utils\n",
    "\n",
    "utility = utils.Utils()"
   ]
  },
  {
   "cell_type": "markdown",
   "metadata": {},
   "source": [
    "- Define class labels"
   ]
  },
  {
   "cell_type": "code",
   "execution_count": null,
   "metadata": {},
   "outputs": [],
   "source": [
    "CLASS_LABELS = [\"background\", \"scissors\"]  # Modify according to your dataset"
   ]
  },
  {
   "cell_type": "markdown",
   "metadata": {},
   "source": [
    "- load sample image"
   ]
  },
  {
   "cell_type": "code",
   "execution_count": null,
   "metadata": {},
   "outputs": [],
   "source": [
    "original_image = cv2.imread(\"image1.jpg\")\n",
    "\n",
    "if(original_image.shape[1] > 900) : \n",
    "    original_image = cv2.resize(original_image, (0, 0), fx=0.5,fy=0.5) # resize 50% if image to big"
   ]
  },
  {
   "cell_type": "markdown",
   "metadata": {},
   "source": [
    "- Load Faster R-CNN ONNX Model into ONNX Runtime"
   ]
  },
  {
   "cell_type": "code",
   "execution_count": null,
   "metadata": {},
   "outputs": [],
   "source": [
    "# Load the ONNX model\n",
    "MODEL_NAME = \"model/fasterrcnn_resnet50_fpn_v2_scissors.onnx\"\n",
    "onnx_model = onnx.load(MODEL_NAME)\n",
    "onnx.checker.check_model(onnx_model)\n",
    "\n",
    "# Initialize inference with ONNX Runtime\n",
    "ort_session = ort.InferenceSession(MODEL_NAME)"
   ]
  },
  {
   "cell_type": "markdown",
   "metadata": {},
   "source": [
    "- run inference on input tensor to ONNX Faster R-CNN model"
   ]
  },
  {
   "cell_type": "code",
   "execution_count": null,
   "metadata": {},
   "outputs": [],
   "source": [
    "# Preprocess the frame for Faster R-CNN\n",
    "image = cv2.cvtColor(original_image, cv2.COLOR_BGR2RGB)\n",
    "image = cv2.resize(image, (224, 224))\n",
    "image_norm = (image / 255.0).astype(np.float32)\n",
    "image_tensor = np.transpose(image_norm, (2, 0, 1))\n",
    "image_tensor = np.expand_dims(image_tensor, axis=0) # Shape: [1, C, H, W]\n",
    "\n",
    "# run inference\n",
    "outputs = ort_session.run(None, {\"input\": image_tensor})\n",
    "print(\"ONNX model outputs:\", outputs[0])"
   ]
  },
  {
   "cell_type": "markdown",
   "metadata": {},
   "source": [
    "- Define polygon using mouse click with `cv2.selectROI`"
   ]
  },
  {
   "cell_type": "code",
   "execution_count": null,
   "metadata": {},
   "outputs": [],
   "source": [
    "# Set up the polygon using mouse click\n",
    "x, y, w, h = cv2.selectROI(\"Select ROI\", original_image, fromCenter=False, showCrosshair=False)\n",
    "\n",
    "polygon = np.array([\n",
    "    [x, y],           # Top-left corner\n",
    "    [x + w, y],       # Top-right corner\n",
    "    [x + w, y + h],   # Bottom-right corner\n",
    "    [x, y + h]        # Bottom-left corner\n",
    "])\n",
    "cv2.destroyAllWindows()\n",
    "print(polygon)"
   ]
  },
  {
   "cell_type": "markdown",
   "metadata": {},
   "source": [
    "- or, <font color=\"orange\">Define polygon zone manually</font> here,\n",
    "    - <i>uncomment below code to use it!</i>"
   ]
  },
  {
   "cell_type": "code",
   "execution_count": null,
   "metadata": {},
   "outputs": [],
   "source": [
    "# paste the polygon point here!\n",
    "# polygon = np.array([[ 63,  61], [539,  61], [539, 601], [ 63, 601]]) # CHANGE TO YOUR OWN POLYGON"
   ]
  },
  {
   "cell_type": "markdown",
   "metadata": {},
   "source": [
    "- Instantiate SuperVision Polygone Zone"
   ]
  },
  {
   "cell_type": "code",
   "execution_count": null,
   "metadata": {},
   "outputs": [],
   "source": [
    "# Create Supervision's PolygonZone for object counting in the specified polygon\n",
    "zone = sv.PolygonZone(polygon=polygon)\n",
    "\n",
    "# Create Supervision annotators for boxes, labels, and the polygon zone\n",
    "box_annotator = sv.BoxAnnotator()\n",
    "label_annotator = sv.LabelAnnotator()\n",
    "zone_annotator = sv.PolygonZoneAnnotator(zone=zone, color=sv.Color.GREEN, thickness=2)"
   ]
  },
  {
   "cell_type": "markdown",
   "metadata": {},
   "source": [
    "- Run object counting"
   ]
  },
  {
   "cell_type": "code",
   "execution_count": null,
   "metadata": {},
   "outputs": [],
   "source": [
    "# Filter results by confidence score (e.g., >0.5)\n",
    "threshold = 0.89\n",
    "mask = outputs[2] > threshold # filter mask by Confidence scores > threshold\n",
    "boxes = outputs[0][mask] # Bounding boxes\n",
    "labels = outputs[1][mask] # Class labels\n",
    "scores = outputs[2][mask] # Confidence scores\n",
    "\n",
    "# Rescale detected box to original image size\n",
    "boxes = utility.rescale_box(boxes, original_image, input_size=[224,224])\n",
    "\n",
    "\n",
    "# Convert predictions to Supervision's Detections format\n",
    "detections = sv.Detections(\n",
    "    xyxy=boxes,        # Use boxes directly as xyxy format (xmin, ymin, xmax, ymax)\n",
    "    confidence=scores, # Confidence scores for each detection\n",
    "    class_id=labels    # Class IDs for each detection\n",
    ")\n",
    "\n",
    "\n",
    "# Trigger the zone counting for the filtered detections\n",
    "zone.trigger(detections=detections)\n",
    "\n",
    "\n",
    "# Annotate bounding boxes and labels\n",
    "box_labels = [\n",
    "    f\"{CLASS_LABELS[class_id]} {confidence:.2f}\"\n",
    "    for class_id, confidence in zip(detections.class_id, detections.confidence)\n",
    "]\n",
    "result_image = original_image.copy()\n",
    "result_image = box_annotator.annotate(scene=result_image, detections=detections)\n",
    "result_image = label_annotator.annotate(scene=result_image, detections=detections, labels=box_labels)\n",
    "\n",
    "\n",
    "# Annotate the polygon zone and display the count\n",
    "object_count_label = f\"count {zone_annotator.zone.current_count}\"\n",
    "result_image = zone_annotator.annotate(scene=result_image, label=object_count_label)\n",
    "\n",
    "\n",
    "\n",
    "# Show the result\n",
    "cv2.imshow('Frame', result_image)\n",
    "cv2.waitKey(0)\n",
    "cv2.destroyAllWindows()\n"
   ]
  }
 ],
 "metadata": {
  "kernelspec": {
   "display_name": "Python 3",
   "language": "python",
   "name": "python3"
  },
  "language_info": {
   "codemirror_mode": {
    "name": "ipython",
    "version": 3
   },
   "file_extension": ".py",
   "mimetype": "text/x-python",
   "name": "python",
   "nbconvert_exporter": "python",
   "pygments_lexer": "ipython3",
   "version": "3.8.19"
  }
 },
 "nbformat": 4,
 "nbformat_minor": 2
}
