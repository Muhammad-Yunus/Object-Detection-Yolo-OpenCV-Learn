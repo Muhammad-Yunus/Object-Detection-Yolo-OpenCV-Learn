{
  "cells": [
    {
      "cell_type": "markdown",
      "metadata": {
        "id": "z16tDk-YbL2C"
      },
      "source": [
        "### 7.3 Pretrained Faster R-CNN Model"
      ]
    },
    {
      "cell_type": "markdown",
      "metadata": {},
      "source": [
        "⚠️⚠️⚠️ *Please open this notebook in Google Colab* by click below link ⚠️⚠️⚠️<br><br>\n",
        "<a href=\"https://colab.research.google.com/github/Muhammad-Yunus/Belajar-OpenCV-ObjectDetection/blob/main/Pertemuan%207/7.3%20pretrained_faster_rcnn.ipynb\" target=\"_blank\"><img src=\"https://colab.research.google.com/assets/colab-badge.svg\" alt=\"Open In Colab\"/></a><br><br><br>\n",
        "- Click `Connect` button in top right Google Colab notebook,<br>\n",
        "<img src=\"https://github.com/Muhammad-Yunus/Belajar-OpenCV-ObjectDetection/blob/main/Pertemuan%207/resource/cl-connect-gpu.png?raw=1\" width=\"250px\">\n",
        "- If connecting process completed, it will turn to something look like this<br>\n",
        "<img src=\"https://github.com/Muhammad-Yunus/Belajar-OpenCV-ObjectDetection/blob/main/Pertemuan%207/resource/cl-connect-gpu-success.png?raw=1\" width=\"250px\">"
      ]
    },
    {
      "cell_type": "markdown",
      "metadata": {},
      "source": [
        "- Check GPU connected into Colab environment is active"
      ]
    },
    {
      "cell_type": "code",
      "execution_count": null,
      "metadata": {},
      "outputs": [],
      "source": [
        "!nvidia-smi"
      ]
    },
    {
      "cell_type": "code",
      "execution_count": 60,
      "metadata": {
        "id": "dw96kT6QbL2J"
      },
      "outputs": [],
      "source": [
        "import cv2\n",
        "import numpy as np\n",
        "import matplotlib.pyplot as plt\n",
        "\n",
        "import torch\n",
        "from torchvision import transforms\n",
        "from torchvision.models.detection import fasterrcnn_resnet50_fpn_v2"
      ]
    },
    {
      "cell_type": "markdown",
      "metadata": {},
      "source": [
        "- Define COCO Class Names (91 class)"
      ]
    },
    {
      "cell_type": "code",
      "execution_count": null,
      "metadata": {},
      "outputs": [],
      "source": [
        "COCO_CLASS_NAMES = [\n",
        "    '__background__', 'person', 'bicycle', 'car', 'motorcycle', 'airplane', 'bus',\n",
        "    'train', 'truck', 'boat', 'traffic light', 'fire hydrant', 'N/A', 'stop sign',\n",
        "    'parking meter', 'bench', 'bird', 'cat', 'dog', 'horse', 'sheep', 'cow',\n",
        "    'elephant', 'bear', 'zebra', 'giraffe', 'N/A', 'backpack', 'umbrella', 'N/A', 'N/A',\n",
        "    'handbag', 'tie', 'suitcase', 'frisbee', 'skis', 'snowboard', 'sports ball',\n",
        "    'kite', 'baseball bat', 'baseball glove', 'skateboard', 'surfboard', 'tennis racket',\n",
        "    'bottle', 'N/A', 'wine glass', 'cup', 'fork', 'knife', 'spoon', 'bowl',\n",
        "    'banana', 'apple', 'sandwich', 'orange', 'broccoli', 'carrot', 'hot dog', 'pizza',\n",
        "    'donut', 'cake', 'chair', 'couch', 'potted plant', 'bed', 'N/A', 'dining table',\n",
        "    'N/A', 'N/A', 'toilet', 'N/A', 'tv', 'laptop', 'mouse', 'remote', 'keyboard', 'cell phone',\n",
        "    'microwave', 'oven', 'toaster', 'sink', 'refrigerator', 'N/A', 'book',\n",
        "    'clock', 'vase', 'scissors', 'teddy bear', 'hair drier', 'toothbrush']"
      ]
    },
    {
      "cell_type": "markdown",
      "metadata": {
        "id": "77rJvLhLbL2M"
      },
      "source": [
        "- Load image Sample"
      ]
    },
    {
      "cell_type": "code",
      "execution_count": 35,
      "metadata": {
        "id": "CYbFSLXPbL2N"
      },
      "outputs": [],
      "source": [
        "# Download an example image from repo\n",
        "import urllib\n",
        "url, filename = (\"https://github.com/Muhammad-Yunus/Belajar-OpenCV-ObjectDetection/raw/main/Pertemuan%207/image2.jpg\", \"image2.jpg\")\n",
        "try: urllib.URLopener().retrieve(url, filename)\n",
        "except: urllib.request.urlretrieve(url, filename)"
      ]
    },
    {
      "cell_type": "code",
      "execution_count": 3,
      "metadata": {
        "id": "gabYL8nubL2O"
      },
      "outputs": [],
      "source": [
        "# show image using matplot lib\n",
        "def imshow(image, isBGR=True):\n",
        "    if isBGR :\n",
        "      image = cv2.cvtColor(image, cv2.COLOR_BGR2RGB)\n",
        "    plt.imshow(image)\n",
        "    plt.axis(\"off\")"
      ]
    },
    {
      "cell_type": "code",
      "execution_count": null,
      "metadata": {
        "colab": {
          "base_uri": "https://localhost:8080/",
          "height": 406
        },
        "id": "XabJyBkFbL2P",
        "outputId": "511182a5-a951-4604-9a18-d96a65f1460e"
      },
      "outputs": [],
      "source": [
        "# Load an example image and preprocess it\n",
        "image_path = 'image2.jpg'  # Replace with your image path\n",
        "image = cv2.imread(image_path)\n",
        "image = cv2.cvtColor(image, cv2.COLOR_BGR2RGB)\n",
        "\n",
        "# Convert image to tensor and normalize as required by ResNet\n",
        "input_tensor = torch.tensor(image).float().permute(2, 0, 1).unsqueeze(0)\n",
        "input_tensor = input_tensor / 255.0\n",
        "\n",
        "\n",
        "imshow(image, isBGR=False)"
      ]
    },
    {
      "cell_type": "markdown",
      "metadata": {
        "id": "zMLUcRnkbL2U"
      },
      "source": [
        "- Load Pretrained Faster R-CNN with backbone ResNet-50\n",
        "    - The pretrained model provoded by Torchvision "
      ]
    },
    {
      "cell_type": "code",
      "execution_count": null,
      "metadata": {
        "colab": {
          "base_uri": "https://localhost:8080/"
        },
        "id": "uBkQ0TtObL2X",
        "outputId": "f6e80084-bad1-48fd-e82a-5af66a460c68"
      },
      "outputs": [],
      "source": [
        "# Load the Faster R-CNN model pre-trained on COCO dataset from Torch Vision\n",
        "model = fasterrcnn_resnet50_fpn_v2(\n",
        "            weights='DEFAULT'\n",
        "        )\n",
        "\n",
        "# Set the model to evaluation mode\n",
        "model.eval()"
      ]
    },
    {
      "cell_type": "code",
      "execution_count": null,
      "metadata": {
        "colab": {
          "base_uri": "https://localhost:8080/"
        },
        "id": "ht_WEtx7bL2Z",
        "outputId": "1a2b38a3-f54f-439f-8cb4-4f0ddeb843ee"
      },
      "outputs": [],
      "source": [
        "# Perform inference\n",
        "with torch.no_grad():\n",
        "    predictions = model(input_tensor)\n",
        "\n",
        "# Example: accessing the prediction results\n",
        "print(predictions)  # Prints out the bounding boxes, labels, and scores\n"
      ]
    },
    {
      "cell_type": "code",
      "execution_count": null,
      "metadata": {
        "colab": {
          "base_uri": "https://localhost:8080/",
          "height": 406
        },
        "id": "X9s6Y_EUcISs",
        "outputId": "15090d6e-083a-4d98-e97e-324601574c7b"
      },
      "outputs": [],
      "source": [
        "# Filter predictions with a threshold score\n",
        "threshold = 0.89\n",
        "mask = predictions[0]['scores'] > threshold\n",
        "filtered_boxes = predictions[0]['boxes'][mask]\n",
        "filtered_scores = predictions[0]['scores'][mask]\n",
        "filtered_labels = predictions[0]['labels'][mask]\n",
        "\n",
        "\n",
        "# Draw bounding boxes, labels, and confidence scores on the image\n",
        "image_with_box = image.copy()\n",
        "\n",
        "for box, score, label in zip(filtered_boxes, filtered_scores, filtered_labels):\n",
        "    x_min, y_min, x_max, y_max = map(int, box)  # Extract and convert box coordinates to int\n",
        "    image_with_box = cv2.rectangle(\n",
        "                            image_with_box, \n",
        "                            (x_min, y_min), \n",
        "                            (x_max, y_max), \n",
        "                            color=(0, 0, 255), \n",
        "                            thickness=2\n",
        "                            )\n",
        "\n",
        "    text = f\"{COCO_CLASS_NAMES[label.item()]} : {score.item():.2f}\"\n",
        "    image_with_box = cv2.putText(\n",
        "                            image_with_box, \n",
        "                            text, \n",
        "                            (x_min, y_min - 5), \n",
        "                            cv2.FONT_HERSHEY_SIMPLEX, \n",
        "                            0.8, \n",
        "                            (0, 255, 0), \n",
        "                            2\n",
        "                            )\n",
        "\n",
        "imshow(image_with_box, isBGR=False)\n"
      ]
    }
  ],
  "metadata": {
    "accelerator": "GPU",
    "colab": {
      "gpuType": "T4",
      "provenance": []
    },
    "kernelspec": {
      "display_name": "Python 3",
      "name": "python3"
    },
    "language_info": {
      "name": "python"
    }
  },
  "nbformat": 4,
  "nbformat_minor": 0
}
