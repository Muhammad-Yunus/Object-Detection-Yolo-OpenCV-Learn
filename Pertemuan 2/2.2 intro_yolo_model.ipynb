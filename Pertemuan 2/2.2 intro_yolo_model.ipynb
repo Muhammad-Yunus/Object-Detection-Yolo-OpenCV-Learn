{
 "cells": [
  {
   "cell_type": "markdown",
   "metadata": {},
   "source": [
    "### 2.2 Intro to Yolo V8 Ultralytics & PyTorch\n",
    "\n",
    "- Yolo (You Only Look Once) is single stage object detection model that makes predictions of bounding boxes and class probabilities all at once with a realtime processing speed.\n",
    "- Historical timeline Yolo Development : <br>\n",
    "<img src=\"resource/yolo-timeline.jpg\" width=\"800px\"><br><br>\n",
    "- `Yolo` Conceptual Design :\n",
    "    - Yolo divides the image into an ***S × S*** grid\n",
    "    - For each grid cell predicts ***B***  `bounding boxes` (*x, y, w, h*) with `confidence` for those boxes, and `class probabilities` (***C***). \n",
    "    ![](resource/yolo-pipeline.png)\n",
    "    - General design Yolo architecture :<br>\n",
    "    <img src=\"resource/yolo-archi-general.png\" width=\"700px\">"
   ]
  },
  {
   "cell_type": "markdown",
   "metadata": {},
   "source": [
    "### 2.2.1 What is YOLOv8?\n",
    "- <font color=\"orange\">YOLOv8</font> is a new state-of-the-art computer vision model built by [Ultralytics](https://www.ultralytics.com/), the creators of <font color=\"orange\">YOLOv5</font>. \n",
    "- The <font color=\"orange\">YOLOv8</font> model contains out-of-the-box support for <font color=\"orange\">object detection</font>, <font color=\"orange\">classification</font>, and <font color=\"orange\">segmentation tasks</font>, accessible through a Python package as well as a command line interface.<br>\n",
    "<img src=\"resource/YOLOv8_YouTube_Thumbnail-p-500.png\" width=\"400px\">"
   ]
  },
  {
   "cell_type": "markdown",
   "metadata": {},
   "source": [
    "- <font color=\"orange\">Yolo Model</font> can be downloaded from <font color=\"orange\">Ultralytics Assets</font> repository : https://github.com/ultralytics/assets/releases/\n",
    "- All model released in [Pytorch](https://pytorch.org/) Model format (`.pt`)\n",
    "- For example if we want to use Yolo v8, there is several naming convention like the following,\n",
    "- Based on Model Size :\n",
    "    - `yolov8n.pt` : *Nano*,\n",
    "    - `yolov8s.pt` : *Small*,\n",
    "    - `yolov8m.pt` : *Medium*,\n",
    "    - `yolov8b.pt` : *Balanced*,\n",
    "    - `yolov8l.pt` : *Large*,\n",
    "    - `yolov8x.pt` : *Extra Large*,\n",
    "- Additional model with special capability :\n",
    "    - `yolov8l-cls.pt` : *Classification Model*\n",
    "    - `yolov8l-human.pt` : *Human Detection Model*\n",
    "    - `yolov8l-obb.pt` : *Oriented Bounding Box Object Detection*\n",
    "    - `yolov8l-pose.pt` : *Pose Estimation Model*\n",
    "    - `yolov8l-seg.pt` : *Segmentation Model*<br>\n",
    "    <img src=\"resource/ultralytics.png\" width=\"800px\"><br><br><br>\n",
    "- Choose according to your needs,\n",
    "- Availabe from `yolov3`, `yolov5`, `yolov8`, `yolov8`, `yolov9` until `yolov10`<br><br>\n",
    "    <img src=\"resource/yolo-model-release.png\" width=\"700px\">"
   ]
  }
 ],
 "metadata": {
  "language_info": {
   "name": "python"
  }
 },
 "nbformat": 4,
 "nbformat_minor": 2
}
