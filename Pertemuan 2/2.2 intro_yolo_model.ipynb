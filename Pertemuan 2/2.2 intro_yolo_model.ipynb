{
 "cells": [
  {
   "cell_type": "markdown",
   "metadata": {},
   "source": [
    "### 1. Intro to Object Detection Using Yolo\n",
    "\n",
    "- Yolo (You Only Look Once) is single stage object detection model that makes predictions of bounding boxes and class probabilities all at once with a realtime processing speed.<br>\n",
    "<img src=\"resource/yolo-timeline.jpg\" width=\"800px\"><br><br>\n"
   ]
  },
  {
   "cell_type": "markdown",
   "metadata": {},
   "source": [
    "#### 1.1 YOLOv1\n",
    "- Introduced in June 2015 by `Joseph Redmon` et al.\n",
    "- `Yolo` Conceptual Design :\n",
    "    - Yolo divides the image into an ***S × S*** grid\n",
    "    - For each grid cell predicts ***B***  `bounding boxes` (*x, y, w, h*) with `confidence` for those boxes, and `class probabilities` (***C***). \n",
    "    ![](resource/yolo-pipeline.png)\n",
    "    - General design Yolo architecture :<br>\n",
    "    <img src=\"resource/yolo-archi-general.png\" width=\"700px\">\n",
    "    \n",
    "- Pros: \n",
    "    - Quite `fast` (`~40 FPS` on Nvidia Titan Black)\n",
    "    - `End-to-end training`\n",
    "    - `Low Error Rate` for Foreground/ Background misclassification\n",
    "    - Learn very `general representation` of objects\n",
    "- Cons: \n",
    "    - `Less accurate` than Fast R-CNN (63.9% mAP compare to 66.9%) <br>\n",
    "    ![](resource/map.png)\n",
    "    - Can not detect `small objects` \n",
    "    - `Low detection rate` of objects that located `close` to each other"
   ]
  },
  {
   "cell_type": "markdown",
   "metadata": {},
   "source": [
    "#### 1.2 YOLOv2 (YOLO9000)\n",
    "- YOLOv2 or `YOLO9000` was introduced at the end of 2016 by `Joseph Redmon` et al.\n",
    "- Inference Speed on Pascal VOC 2007 :\n",
    "    - At 67 FPS, gets 76.8 mAP \n",
    "    - At 40 FPS, gets 78.6 mAP<br>\n",
    "    ![](resource/yolov2-map2.png)\n",
    "- Outperforming state-of-the-art methods like Faster RCNN with ResNet and SSD. \n",
    "- Compare to YOLOv1, YOLOv2 becomes `better` (less error rate), `faster` (higher FPS) and `stronger`(9000 object categories with high detection and classification result)."
   ]
  },
  {
   "cell_type": "markdown",
   "metadata": {},
   "source": [
    "#### 1.3 YOLOv3 \n",
    "- YOLOv3 was introduced in April 2018 by `Joseph Redmon` et al.\n",
    "- Improvement over YOLO v2, aiming to increase the accuracy to detect object in different scales and aspect ratios.\n",
    "- Inference Speed :\n",
    "    - At 320 × 320 runs in `22 ms` at `51.5 mAP-50` using COCO metric, as accurate as SSD but three times faster.\n",
    "    ![](resource/inference-time-yolo-v3.png)\n",
    "- YOLOv3 is a good detector. It’s `fast` and `accurate`. \n",
    "- YOLOv3 is the last reseach by `Joseph Redmon` before he quite research on AI Computer Vision."
   ]
  },
  {
   "cell_type": "markdown",
   "metadata": {},
   "source": [
    "#### YOLOv4\n",
    "\n",
    "- **Note** :  Joseph Redmond, the original creator of YOLO, has left the AI community a few years before, so YOLOv4 and other versions past that are not his official work. \n",
    "- YOLO v4 is the fourth version of the YOLO object detection algorithm introduced in 2020 by Bochkovskiy et al. as an improvement over YOLO v3.\n",
    "<img src=\"resource/YOLO v4-min.jpg\" width=\"600px\">"
   ]
  },
  {
   "cell_type": "markdown",
   "metadata": {},
   "source": [
    "#### YOLO v5\n",
    "\n",
    "- YOLO v5 was released a couple of months after YOLOv4 in 2020 by Glenn Jocher. At the time of this writing, there was no scientific paper about YOLOv5.\n",
    "- The project is maintained by **Ultralytics**. "
   ]
  },
  {
   "cell_type": "markdown",
   "metadata": {},
   "source": [
    "#### YOLO v6\n",
    "- YOLO v6 was proposed in 2022 by Li et al. as an improvement over previous versions.\n",
    "<img src=\"resource/YOLO v6 results-min.jpg\" width=\"800px\">"
   ]
  },
  {
   "cell_type": "markdown",
   "metadata": {},
   "source": [
    "#### YOLO v7\n",
    "\n",
    "- Released only two months after YOLO v6, YOLO v7 introduces significant advancements in real-time object detection, achieving state-of-the-art performance in both speed and accuracy across a wide range of FPS (5 to 160 FPS) on GPU V100. \n",
    "- It boasts the highest accuracy among real-time detectors with 30 FPS or higher, outperforming both transformer-based and convolutional-based detectors in speed and accuracy.<br>\n",
    "<img src=\"resource/YOLO v7-min.jpg\" width=\"800px\">"
   ]
  },
  {
   "cell_type": "markdown",
   "metadata": {},
   "source": [
    "#### YOLO v8\n",
    "\n",
    "- YOLOv8 was released in January 2023 by Ultralytics, the company that developed YOLOv5.\n",
    "- Evaluated on MS COCO dataset test-dev 2017, YOLOv8x achieved an AP of 53.9% with an image size of 640 pixels\n",
    " (compared to 50.7% of YOLOv5 on the same input size) with a speed of 280 FPS on an NVIDIA A100 and TensorRT."
   ]
  },
  {
   "cell_type": "markdown",
   "metadata": {},
   "source": [
    "#### YOLO v9\n",
    "- YOLOv9 represents a pivotal development in real-time object detection, offering significant improvements in terms of efficiency, accuracy, and adaptability. <br>\n",
    "<img src=\"resource/Yolo v9 - bench.png\" width=\"700px\">"
   ]
  },
  {
   "cell_type": "markdown",
   "metadata": {},
   "source": [
    "### Source \n",
    "\n",
    "- https://arxiv.org/pdf/2304.00501v1\n",
    "- https://www.ikomia.ai/blog/what-is-yolo-introduction-object-detection-computer-vision\n",
    "- https://www.v7labs.com/blog/yolo-object-detection\n",
    "- https://docs.ultralytics.com/models/yolov9/"
   ]
  }
 ],
 "metadata": {
  "language_info": {
   "name": "python"
  }
 },
 "nbformat": 4,
 "nbformat_minor": 2
}
