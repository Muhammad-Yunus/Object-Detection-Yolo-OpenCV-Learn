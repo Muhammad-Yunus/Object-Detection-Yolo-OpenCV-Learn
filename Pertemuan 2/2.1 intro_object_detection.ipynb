{
 "cells": [
  {
   "cell_type": "markdown",
   "metadata": {},
   "source": [
    "### 2.1 Intro to Object Detection Algorithm"
   ]
  },
  {
   "cell_type": "markdown",
   "metadata": {},
   "source": [
    "- Object detection is the task of `detecting instances` of objects of a certain class within an image. ([paperswithcode.com](https://paperswithcode.com/task/object-detection))\n",
    "![](resource/object-detection-prev.gif)\n",
    "- The state-of-the-art methods can be categorized into two main types: one-stage methods and two stage-methods. \n",
    "    - `One-stage methods` prioritize inference `speed`, and example models include `YOLO`, `SSD` and `RetinaNet`. \n",
    "    - `Two-stage methods` prioritize detection `accuracy`, and example models include `Faster R-CNN`, `Mask R-CNN` and `Cascade R-CNN`.<br><img src=\"resource/Object_detection-Type.png\" width=\"400px\">\n",
    "- `Object Detection` VS `Image Classification` :\n",
    "    - `Image Clasification` : classify an image into a certain category. \n",
    "    - `Object Detection` : Identify the `location` of objects in an image.<br>\n",
    "    <img src=\"resource/objectdetection-vs.jpg\" width=\"500px\">"
   ]
  }
 ],
 "metadata": {
  "kernelspec": {
   "display_name": "Python 3",
   "language": "python",
   "name": "python3"
  },
  "language_info": {
   "name": "python",
   "version": "3.7.16"
  }
 },
 "nbformat": 4,
 "nbformat_minor": 2
}
