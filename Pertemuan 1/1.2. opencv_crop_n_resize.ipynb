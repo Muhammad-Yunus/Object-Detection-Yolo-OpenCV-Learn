{
 "cells": [
  {
   "cell_type": "markdown",
   "metadata": {},
   "source": [
    "## 1.2 OpenCV Image Manipulation\n",
    "\n",
    "- Change Color Space\n",
    "- Image Crop \n",
    "- Image Resize "
   ]
  },
  {
   "cell_type": "code",
   "execution_count": null,
   "metadata": {},
   "outputs": [],
   "source": [
    "import cv2 "
   ]
  },
  {
   "cell_type": "markdown",
   "metadata": {},
   "source": [
    "### 1.2.1 Change Color Space\n",
    "- Convert <font color=\"orange\">BGR to Grayscale Image</font>:\n",
    "    - Convert RGB to Grayscale Image using `cv2.cvtColor(img, cv2.COLOR_BGR2GRAY)`<br><br>\n",
    "    <img src=\"resource/gray_image_2.png\" style=\"width: 400px; background-color:white\"></img><br>\n",
    "    <img src=\"resource/gray_image.png\" style=\"width: 400px; background-color:white\"></img><br><br>\n",
    "\n",
    "    - Another important conversion is from RGB to HSV using, `hsv = cv2.cvtColor(img, cv2.COLOR_BGR2HSV)`"
   ]
  },
  {
   "cell_type": "code",
   "execution_count": null,
   "metadata": {},
   "outputs": [],
   "source": [
    "# convert BGR to Gray\n",
    "img = cv2.imread(\"lena.jpg\")\n",
    "\n",
    "img_gray = cv2.cvtColor(img, cv2.COLOR_BGR2GRAY)\n",
    "\n",
    "# show image\n",
    "cv2.imshow('myapp',img)\n",
    "cv2.imshow('gray image',img_gray)\n",
    "cv2.waitKey(0) # display the window infinitely until any keypress\n",
    "cv2.destroyAllWindows()"
   ]
  },
  {
   "cell_type": "markdown",
   "metadata": {},
   "source": [
    "#### 1.2.2 Image Crop"
   ]
  },
  {
   "cell_type": "markdown",
   "metadata": {},
   "source": [
    "- crop image pada OpenCV dilakukan dengan menggunakan *numpy slicing*\n",
    "- dengan notasi `image_array[y_min:y_max , x_min:x_max]`\n",
    "- dimana `y_min`, `y_max`, `x_min` dan `x_max` merupakan titik pixel batas area yang ingin di crop.\n",
    "\n",
    "<img src=\"resource/crop_img.png\" style=\"width: 400px;\"></img>"
   ]
  },
  {
   "cell_type": "code",
   "execution_count": null,
   "metadata": {},
   "outputs": [],
   "source": [
    "img = cv2.imread('lena.jpg')\n",
    "\n",
    "img.shape"
   ]
  },
  {
   "cell_type": "code",
   "execution_count": null,
   "metadata": {},
   "outputs": [],
   "source": [
    "# crop image[y_min:y_max , x_min:x_max]\n",
    "img_crop = img[0:250, 0:250] \n"
   ]
  },
  {
   "cell_type": "code",
   "execution_count": null,
   "metadata": {},
   "outputs": [],
   "source": [
    "# show image\n",
    "cv2.imshow('croped image',img_crop)\n",
    "cv2.imshow('original image',img)\n",
    "cv2.waitKey(0)\n",
    "cv2.destroyAllWindows()"
   ]
  },
  {
   "cell_type": "markdown",
   "metadata": {},
   "source": [
    "- crop dengan margin 50px"
   ]
  },
  {
   "cell_type": "code",
   "execution_count": null,
   "metadata": {},
   "outputs": [],
   "source": [
    "img_crop = img[50:-50, 50:-50] "
   ]
  },
  {
   "cell_type": "code",
   "execution_count": null,
   "metadata": {},
   "outputs": [],
   "source": [
    "# show image\n",
    "cv2.imshow('croped image',img_crop)\n",
    "cv2.imshow('original image',img)\n",
    "cv2.waitKey(0)\n",
    "cv2.destroyAllWindows()"
   ]
  },
  {
   "cell_type": "markdown",
   "metadata": {},
   "source": [
    "- Crop dengan margin 25%"
   ]
  },
  {
   "cell_type": "code",
   "execution_count": null,
   "metadata": {},
   "outputs": [],
   "source": [
    "h, w, c = img.shape\n",
    "\n",
    "x1 = int(w*0.20)\n",
    "x2 = int(w*0.70)\n",
    "y1 = int(h*0.20)\n",
    "y2 = int(h*0.70)\n",
    "\n",
    "img_crop = img[y1:y2, x1:x2] "
   ]
  },
  {
   "cell_type": "code",
   "execution_count": null,
   "metadata": {},
   "outputs": [],
   "source": [
    "# show image\n",
    "cv2.imshow('croped image',img_crop)\n",
    "cv2.imshow('original image',img)\n",
    "cv2.waitKey(0)\n",
    "cv2.destroyAllWindows()"
   ]
  },
  {
   "cell_type": "markdown",
   "metadata": {},
   "source": [
    "#### 1.2.3 Image Resize"
   ]
  },
  {
   "cell_type": "markdown",
   "metadata": {},
   "source": [
    "- untuk melakukan resize image pada OpenCV diprkenalkan beberapa method berikut :\n",
    "    - `cv2.resize(img, (w_new, h_new))` : resize `img` ke ukuran `w_new` x `h_new`"
   ]
  },
  {
   "cell_type": "code",
   "execution_count": null,
   "metadata": {},
   "outputs": [],
   "source": [
    "img = cv2.imread('lena.jpg')\n",
    "\n",
    "# resize image (new_widht, new_height)\n",
    "img_resize = cv2.resize(img, (140, 140))  \n",
    "\n",
    "# show image \n",
    "cv2.imshow('Original Image', img)\n",
    "cv2.imshow('Resized Image', img_resize)\n",
    "cv2.waitKey(0)\n",
    "cv2.destroyAllWindows()"
   ]
  },
  {
   "cell_type": "markdown",
   "metadata": {},
   "source": [
    "- resize dengan menggunakan rasio ukuran original (**hitung manual**)"
   ]
  },
  {
   "cell_type": "code",
   "execution_count": null,
   "metadata": {},
   "outputs": [],
   "source": [
    "ratio = float(input(\"masukan rasio resize [0 - 1.0] : \"))\n",
    "\n",
    "img = cv2.imread('lena.jpg')\n",
    "h, w, c = img.shape\n",
    "\n",
    "width = int(w * ratio)\n",
    "height = int(h * ratio)\n",
    "\n",
    "# resize image (new_widht, new_height)\n",
    "img_resize = cv2.resize(img, (width, height))  \n",
    "\n",
    "# show image \n",
    "cv2.imshow('Original Image', img)\n",
    "cv2.imshow('Resized Image', img_resize)\n",
    "cv2.waitKey(0)\n",
    "cv2.destroyAllWindows()"
   ]
  },
  {
   "cell_type": "markdown",
   "metadata": {},
   "source": [
    "- resize dengan menggunakan rasio ukuran original (`fx`, `fy`)"
   ]
  },
  {
   "cell_type": "code",
   "execution_count": null,
   "metadata": {},
   "outputs": [],
   "source": [
    "ratio = float(input(\"masukan rasio resize [0 - 1.0] : \"))\n",
    "\n",
    "img = cv2.imread('lena.jpg')\n",
    "\n",
    "# resize image (new_widht, new_height)\n",
    "img_resize = cv2.resize(img, (0,0), fx=ratio, fy=ratio)  \n",
    "\n",
    "# show image \n",
    "cv2.imshow('Original Image', img)\n",
    "cv2.imshow('Resized Image', img_resize)\n",
    "cv2.waitKey(0)\n",
    "cv2.destroyAllWindows()"
   ]
  },
  {
   "cell_type": "markdown",
   "metadata": {},
   "source": [
    "### Resize Video Camera"
   ]
  },
  {
   "cell_type": "code",
   "execution_count": null,
   "metadata": {},
   "outputs": [],
   "source": [
    "ratio = 0.5\n",
    "\n",
    "# load video\n",
    "cap = cv2.VideoCapture(0)\n",
    "           \n",
    "# iterate for each frame in video\n",
    "while cap.isOpened():\n",
    "    \n",
    "    # get image on each frame\n",
    "    ret, frame = cap.read()\n",
    "    if not ret:\n",
    "        break\n",
    "\n",
    "    img_resize = cv2.resize(frame, (0,0), fx=ratio, fy=ratio)  \n",
    "    cv2.imshow('Resized',img_resize)\n",
    "    cv2.imshow('Frame',frame)\n",
    "    # wait 25ms per frame and close using 'q' \n",
    "    if cv2.waitKey(25) == ord('q'):\n",
    "          break\n",
    "\n",
    "\n",
    "cap.release()\n",
    "cv2.destroyAllWindows()"
   ]
  }
 ],
 "metadata": {
  "kernelspec": {
   "display_name": "Python 3",
   "language": "python",
   "name": "python3"
  },
  "language_info": {
   "codemirror_mode": {
    "name": "ipython",
    "version": 3
   },
   "file_extension": ".py",
   "mimetype": "text/x-python",
   "name": "python",
   "nbconvert_exporter": "python",
   "pygments_lexer": "ipython3",
   "version": "3.7.16"
  }
 },
 "nbformat": 4,
 "nbformat_minor": 4
}
