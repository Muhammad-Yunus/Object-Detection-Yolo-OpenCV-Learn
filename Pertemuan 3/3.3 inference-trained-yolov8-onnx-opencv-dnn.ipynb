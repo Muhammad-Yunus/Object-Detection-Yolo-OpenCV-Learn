{
 "cells": [
  {
   "cell_type": "markdown",
   "metadata": {},
   "source": [
    "### Test Inference Yolo V8 using OpenCV DNN\n",
    "\n",
    "- Run this notebook in your vscode"
   ]
  },
  {
   "cell_type": "markdown",
   "metadata": {},
   "source": [
    "- Downgrade OpenCV to version 4.7.x\n",
    "    - This downgrade is required due to Issue related to ONNX YoloV8 in OpenCV DNN for version >= 4.8.x\n",
    "        - https://github.com/ultralytics/ultralytics/issues/1836\n",
    "    - Open Anaconda Prompt \n",
    "    - Activate environment\n",
    "    ```\n",
    "    conda activate BelajarOpenCV\n",
    "    ```\n",
    "    - Downgrade to OpenCV 4.7.x\n",
    "    ```\n",
    "    pip install --force-reinstall opencv-python==4.7.0.72 --user\n",
    "    ```\n"
   ]
  },
  {
   "cell_type": "code",
   "execution_count": null,
   "metadata": {},
   "outputs": [],
   "source": [
    "import cv2 \n",
    "import numpy as np\n",
    "import utils \n",
    "utility = utils.Utils()\n",
    "\n",
    "cv2.__version__"
   ]
  },
  {
   "cell_type": "code",
   "execution_count": null,
   "metadata": {},
   "outputs": [],
   "source": [
    "# define class names, remember in notebook 3.2 we are training yolo v8s with single class `scissors`\n",
    "classNames = [\"scissors\"]"
   ]
  },
  {
   "cell_type": "markdown",
   "metadata": {},
   "source": [
    "- put the downloaded `.onnx` file from notebook 3.2 into `model/` directory,"
   ]
  },
  {
   "cell_type": "code",
   "execution_count": 9,
   "metadata": {},
   "outputs": [],
   "source": [
    "# load trained Yolo V8 ONNX\n",
    "model = \"model/yolov8.onnx\"\n",
    "net = cv2.dnn.readNetFromONNX(model)\n",
    "\n",
    "\n",
    "# load sample image & convert to blob\n",
    "img = cv2.imread(\"image4.jpg\")\n",
    "resize_h, resize_w = 320, 320 \n",
    "blob = cv2.dnn.blobFromImage(img, 1/255.0, (resize_w, resize_h), (0, 0, 0), swapRB=True, crop=False)\n",
    "\n",
    "\n",
    "# do forward pass (inferencing)\n",
    "net.setInput(blob)\n",
    "output = net.forward()\n",
    "\n",
    "\n",
    "# do a postprocessing\n",
    "img = utility.postprocess_onnx(output, img, classNames, confThreshold = 0.7, nmsThreshold = 0.2, font_size=0.5, \n",
    "                        color=(255,127,0), text_color=(255,255,255), input_size=[resize_h, resize_w])\n",
    "\n",
    "\n",
    "# show result \n",
    "cv2.imshow(\"detection result\", img)\n",
    "cv2.waitKey()\n",
    "cv2.destroyAllWindows()"
   ]
  },
  {
   "cell_type": "markdown",
   "metadata": {},
   "source": [
    "- Inference Yolo V8 From camera"
   ]
  },
  {
   "cell_type": "code",
   "execution_count": 10,
   "metadata": {},
   "outputs": [],
   "source": [
    "# load trained Yolo V8 ONNX\n",
    "model = \"model/yolov8.onnx\"\n",
    "net = cv2.dnn.readNetFromONNX(model)\n",
    "\n",
    "# load video\n",
    "cap = cv2.VideoCapture(0)\n",
    "           \n",
    "# iterate for each frame in video\n",
    "while cap.isOpened():\n",
    "    \n",
    "    # get image on each frame\n",
    "    ret, frame = cap.read()\n",
    "    if not ret:\n",
    "        break\n",
    "    \n",
    "    # convert to blob\n",
    "    resize_h, resize_w = 320, 320 # use smaller image size to reduce computation \n",
    "    blob = cv2.dnn.blobFromImage(frame, 1/255.0, (resize_w, resize_h), (0, 0, 0), swapRB=True, crop=True)\n",
    "\n",
    "    # do a net forward (inferencing)\n",
    "    net.setInput(blob)\n",
    "    output = net.forward()\n",
    "\n",
    "    # do a postprocessing\n",
    "    frame = utility.postprocess_onnx(output, frame, classNames, confThreshold = 0.5, nmsThreshold = 0.4, font_size=0.5, \n",
    "                        color=(255,127,0), text_color=(255,255,255), input_size=[resize_h, resize_w])\n",
    "\n",
    "    # show result\n",
    "    cv2.imshow('Frame',frame)\n",
    "\n",
    "    # wait 25ms per frame and close using 'q' \n",
    "    if cv2.waitKey(1) == ord('q'):\n",
    "          break\n",
    "\n",
    "\n",
    "cap.release()\n",
    "cv2.destroyAllWindows()"
   ]
  }
 ],
 "metadata": {
  "kernelspec": {
   "display_name": "Python 3",
   "language": "python",
   "name": "python3"
  },
  "language_info": {
   "codemirror_mode": {
    "name": "ipython",
    "version": 3
   },
   "file_extension": ".py",
   "mimetype": "text/x-python",
   "name": "python",
   "nbconvert_exporter": "python",
   "pygments_lexer": "ipython3",
   "version": "3.7.16"
  }
 },
 "nbformat": 4,
 "nbformat_minor": 2
}
