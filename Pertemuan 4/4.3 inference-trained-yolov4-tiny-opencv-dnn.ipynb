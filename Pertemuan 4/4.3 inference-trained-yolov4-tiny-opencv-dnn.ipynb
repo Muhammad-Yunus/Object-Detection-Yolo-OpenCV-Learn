{
 "cells": [
  {
   "cell_type": "markdown",
   "metadata": {},
   "source": [
    "### Test Inference Yolo V4 Tiny using OpenCV DNN\n",
    "\n",
    "- Run this notebook in your vscode"
   ]
  },
  {
   "cell_type": "code",
   "execution_count": null,
   "metadata": {},
   "outputs": [],
   "source": [
    "import cv2 \n",
    "import numpy as np\n",
    "import utils \n",
    "utility = utils.Utils()"
   ]
  },
  {
   "cell_type": "code",
   "execution_count": 3,
   "metadata": {},
   "outputs": [],
   "source": [
    "# define class names, remember in notebook 4.2 we are training yolo v4 tiny with single class `scissors`\n",
    "classNames = [\"scissors\"]"
   ]
  },
  {
   "cell_type": "markdown",
   "metadata": {},
   "source": [
    "- put the downloaded `.cfg` and `.weights` file from notebook 4.2 into `model/` directory,"
   ]
  },
  {
   "cell_type": "code",
   "execution_count": null,
   "metadata": {},
   "outputs": [],
   "source": [
    "# load trained Yolo V4 tiny weight and config\n",
    "model = \"model/custom-yolov4-tiny-detector_last.weights\"\n",
    "config = \"model/custom-yolov4-tiny-detector.cfg\"\n",
    "net = cv2.dnn.readNet(model, config)\n",
    "\n",
    "\n",
    "# load sample image & convert to blob\n",
    "img = cv2.imread(\"image2.jpg\")\n",
    "resize_h, resize_w = 320, 320 \n",
    "blob = cv2.dnn.blobFromImage(img, 1/255.0, (resize_w, resize_h), (0, 0, 0), swapRB=True, crop=False)\n",
    "\n",
    "\n",
    "# do forward pass (inferencing)\n",
    "net.setInput(blob)\n",
    "layerOutput = net.getUnconnectedOutLayersNames()\n",
    "output = net.forward(layerOutput)\n",
    "\n",
    "\n",
    "# do postprocessing \n",
    "img = utility.postprocess_darknet(output, img, classNames, confThreshold = 0.2, nmsThreshold = 0.3, font_size=0.5, \n",
    "                        color=(255,127,0), text_color=(255,255,255))\n",
    "\n",
    "\n",
    "# show result \n",
    "cv2.imshow(\"detection result\", img)\n",
    "cv2.waitKey()\n",
    "cv2.destroyAllWindows()"
   ]
  },
  {
   "cell_type": "markdown",
   "metadata": {},
   "source": [
    "- Inference Yolo V4 Tiny From camera"
   ]
  },
  {
   "cell_type": "code",
   "execution_count": 7,
   "metadata": {},
   "outputs": [],
   "source": [
    "# load trained Yolo V4 tiny weight and config\n",
    "model = \"model/custom-yolov4-tiny-detector_last.weights\"\n",
    "config = \"model/custom-yolov4-tiny-detector.cfg\"\n",
    "net = cv2.dnn.readNet(model, config)\n",
    "\n",
    "# load video\n",
    "cap = cv2.VideoCapture(0)\n",
    "           \n",
    "# iterate for each frame in video\n",
    "while cap.isOpened():\n",
    "    \n",
    "    # get image on each frame\n",
    "    ret, frame = cap.read()\n",
    "    if not ret:\n",
    "        break\n",
    "    \n",
    "    # convert to blob\n",
    "    resize_h, resize_w = 320, 320 # use smaller image size to reduce computation \n",
    "    blob = cv2.dnn.blobFromImage(frame, 1/255.0, (resize_w, resize_h), (0, 0, 0), swapRB=True, crop=False)\n",
    "\n",
    "    # do a net forward (inferencing)\n",
    "    net.setInput(blob)\n",
    "    layerOutput = net.getUnconnectedOutLayersNames()\n",
    "    output = net.forward(layerOutput)\n",
    "\n",
    "    # do postprocessing\n",
    "    frame = utility.postprocess_darknet(output, frame, classNames, confThreshold = 0.1, nmsThreshold = 0.2, font_size=0.5, \n",
    "                        color=(255,127,0), text_color=(255,255,255))\n",
    "\n",
    "    # show result\n",
    "    cv2.imshow('Frame',frame)\n",
    "\n",
    "    # wait 25ms per frame and close using 'q' \n",
    "    if cv2.waitKey(1) == ord('q'):\n",
    "          break\n",
    "\n",
    "\n",
    "cap.release()\n",
    "cv2.destroyAllWindows()"
   ]
  },
  {
   "cell_type": "code",
   "execution_count": null,
   "metadata": {},
   "outputs": [],
   "source": []
  }
 ],
 "metadata": {
  "kernelspec": {
   "display_name": "Python 3",
   "language": "python",
   "name": "python3"
  },
  "language_info": {
   "codemirror_mode": {
    "name": "ipython",
    "version": 3
   },
   "file_extension": ".py",
   "mimetype": "text/x-python",
   "name": "python",
   "nbconvert_exporter": "python",
   "pygments_lexer": "ipython3",
   "version": "3.7.16"
  }
 },
 "nbformat": 4,
 "nbformat_minor": 2
}
