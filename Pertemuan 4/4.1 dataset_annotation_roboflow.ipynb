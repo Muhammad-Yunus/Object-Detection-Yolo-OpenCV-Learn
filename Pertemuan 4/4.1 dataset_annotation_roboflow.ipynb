{
 "cells": [
  {
   "cell_type": "markdown",
   "metadata": {},
   "source": [
    "# 1 Dataset Annotation using Roboflow\n",
    "- Understanding Dataset Annotation \n",
    "- Create Roboflow Account, Create Workspace & Create Project \n",
    "- Upload Dataset \n",
    "- Manual Annotation"
   ]
  },
  {
   "cell_type": "markdown",
   "metadata": {},
   "source": [
    "### 1.1 Undestanding Dataset Annotation \n",
    "\n",
    "- Dataset adalah kumpulan data yang kita butuhkan untuk proses training model.<br>\n",
    "- Dalam object detectin menggunakan Yolo, dataset berupa kumpulan gambar yang terbagi dalam class-class data.\n",
    "- Satu class data memiliki kesamaan `fitur`. \n",
    "- Misalkan class data `kucing` maka gambar-gambar yang terasosiasi pada class tersebut adalah class kucing.\n",
    "<img src=\"resource/training-inferencing.jpg\" width=\"600px\">\n"
   ]
  },
  {
   "cell_type": "markdown",
   "metadata": {},
   "source": [
    "- Salah satu dataset yang digunakan sebagai `base model yolo` adalah COCO Dataset (https://cocodataset.org/#explore).<br><br>\n",
    "<img src=\"resource/coco-examples.jpg\" width=\"700px\">"
   ]
  },
  {
   "cell_type": "markdown",
   "metadata": {},
   "source": [
    "- Kita dapat menggunakan gambar yang kita miliki sebagai dataset untuk proses training model Yolo.\n",
    "- Teknik ini sering disebut `Transfer Learning`, karena kita '`mentransfer`' hasil pembelajaran `base model yolo` pada dataset COCO kedalam model dengan `custom dataset` (*dataset yang kita miliki sendiri*).\n",
    "- Namun dataset yang kita miliki tidak bisa digunakan langsung oleh framework/library untuk training model yolo seperti `Darknet` atau `PyTorch`\n",
    "- Kita harus menerapkan `dataset annotation` pada setiap gambar yang kita miliki.\n",
    "- `Dataset annotation` adalah proses `memberikan label` / `nama class` dan `bounding box` object pada gambar.\n",
    "- Ada banyak tools yang dapat kita gunakan untuk proses annotation ini, namun untuk sekarang kita akan gunakan `Roboflow`."
   ]
  },
  {
   "cell_type": "markdown",
   "metadata": {},
   "source": [
    "### 1.2 Create Roboflow\n",
    "\n",
    "- Buka di browser link berikut https://app.roboflow.com/ <br>\n",
    "<img src=\"resource/rb-login.png\" width=\"500px\">\n",
    "- Pilih login dengan akun google.\n",
    "- Check `confirm checkbox` lalu `continue`<br>\n",
    "<img src=\"resource/rb-confirm.png\" width=\"500px\">\n",
    "- Setelah itu akan muncul halaman create `Workspace`\n",
    "- Input nama workspace `Learning`, pilin `Free plan` lalu click `Create Workspace`\n",
    "<img src=\"resource/rb-create-workspace.png\" width=\"800px\">\n",
    "- Setelah itu click `Continue without adding others`<br>\n",
    "<img src=\"resource/rb-invite.png\" width=\"500px\">\n"
   ]
  },
  {
   "cell_type": "markdown",
   "metadata": {},
   "source": [
    "### 1.3 Create & Upload Dataset \n",
    "- Create dataset dengan nama `Skissors Detection` dana annotation group `skissors`\n",
    "- Pilih project type `Object Detection` lalu klik `Create public project`<br>\n",
    "<img src=\"resource/rb-create-dataset.png\" width=\"800px\">\n",
    "- Setelah itu download sample dataset dari link berikut [Scissors Datasets](https://drive.google.com/file/d/1PFUlHCwxHAz-zMpP7UD-L47dRAzbrqWi/view?usp=sharing)\n",
    "- Upload ke dalam  `Skissors Detection` project dengan cara klik `Select Files`<br>\n",
    "<img src=\"resource/rb-upload-dataset.png\" width=\"800px\">\n",
    "- Lalu klik `Save and Continue` (pojok kanan atas) <br>\n",
    "<img src=\"resource/rb-uploaded-data.png\" width=\"800px\">\n",
    "- Setelah proses upload selesai, lalu klik `Start Manual Labeling` <br>\n",
    "<img src=\"resource/rb-manual-labeling.png\" width=\"800px\">\n",
    "- Setelah itu klik `Assign to Myself` <br>\n",
    "<img src=\"resource/rb-labeling-assign.png\" width=\"300px\">"
   ]
  },
  {
   "cell_type": "markdown",
   "metadata": {},
   "source": [
    "### 1.4 Manual Annotation\n",
    "\n",
    "- Selanjutnya klik `Start Annotating` untuk memulai menganotasi dataset <br>\n",
    "<img src=\"resource/rb-labeling-start.png\" width=\"800px\">\n",
    "- Lakukan anotasi (memberikan **label** `skissors` dan **bounding box** pada gunting) untuk semua gambar seperti berikut <br>\n",
    "<img src=\"resource/rb-annotation-process.gif\" width=\"950px\">\n",
    "- Jika sudah selesai, kembali ke halaman utama, dengan cara klik icon back <br>\n",
    "<img src=\"resource/rb-annotation-back.png\" width=\"300px\">\n",
    "- Setelah itu klik `Add xxx images to Dataset`<br>\n",
    "<img src=\"resource/rb-add-dataset.png\" width=\"800px\">\n",
    "- Selanjutnya klik `Add Images`,<br>\n",
    "<img src=\"resource/rb-add-images.png\" width=\"300px\">\n",
    "- Setelah selesai, selanjutnya kita masuk ke menu `Generate`<br>\n",
    "<img src=\"resource/rb-generate.png\" width=\"800px\">\n",
    "- Lalu pada bagian `3 Preprocessing`, klik `Edit` **Resize**<br>\n",
    "<img src=\"resource/rb-resize.png\" width=\"400px\">\n",
    "- Pilih `Fit (white edge) in` dan resize ke ukuran 320x320, lalu klik `Apply` lalu `Continue`<br>\n",
    "<img src=\"resource/rb-resize-2.png\" width=\"400px\">\n",
    "- Lalu pada bagian `4 Augmentation` klik `Add Augmentation Step`<br>\n",
    "<img src=\"resource/rb-augmentation.png\" width=\"400px\">\n",
    "- Tambahkan augmentasi pada dataset sesuai kebutuhan, misal di `Flip`, di `Rotate`, dll.\n",
    "- Setelah selesai ditambahkan, lalu klik `Continue` <br>\n",
    "<img src=\"resource/rb-augmentation-2.png\" width=\"400px\">\n",
    "- Pada bagian `5 Create` klik `Create` button <br>\n",
    "<img src=\"resource/rb-create.png\" width=\"400px\">"
   ]
  }
 ],
 "metadata": {
  "language_info": {
   "name": "python"
  }
 },
 "nbformat": 4,
 "nbformat_minor": 2
}
